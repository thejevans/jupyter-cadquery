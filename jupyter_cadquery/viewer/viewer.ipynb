{
 "cells": [
  {
   "cell_type": "code",
   "execution_count": null,
   "id": "72045750-c6b2-4f9a-aaf0-be24bc599b4f",
   "metadata": {},
   "outputs": [],
   "source": [
    "%%HTML\n",
    "<style>\n",
    "body {\n",
    "  margin: 0px !important;\n",
    "  padding: 0px !important;\n",
    "}\n",
    ".jp-Cell {\n",
    "    padding: 0px\n",
    "}\n",
    ".jp-Cell-outputWrapper {\n",
    "    margin-top: 0px !important;\n",
    "}\n",
    ".tcv_cad_viewer {\n",
    "    margin: 0px\n",
    "}\n",
    "</style>"
   ]
  },
  {
   "cell_type": "code",
   "execution_count": null,
   "id": "9e3173e3-0ad5-4da8-b614-83cf03de2906",
   "metadata": {},
   "outputs": [],
   "source": [
    "from jupyter_cadquery.viewer.server import start_viewer\n",
    "start_viewer()"
   ]
  }
 ],
 "metadata": {
  "kernelspec": {
   "display_name": "Python 3 (ipykernel)",
   "language": "python",
   "name": "python3"
  },
  "language_info": {
   "codemirror_mode": {
    "name": "ipython",
    "version": 3
   },
   "file_extension": ".py",
   "mimetype": "text/x-python",
   "name": "python",
   "nbconvert_exporter": "python",
   "pygments_lexer": "ipython3",
   "version": "3.10.5"
  }
 },
 "nbformat": 4,
 "nbformat_minor": 5
}
